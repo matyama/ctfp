{
 "cells": [
  {
   "cell_type": "markdown",
   "id": "6d164023",
   "metadata": {},
   "source": [
    "# Category Theory for Programmers"
   ]
  },
  {
   "cell_type": "markdown",
   "id": "c5bf04b0",
   "metadata": {},
   "source": [
    "## Chapter 2: Types and Functions"
   ]
  },
  {
   "cell_type": "markdown",
   "id": "7d168a7e",
   "metadata": {},
   "source": [
    "### Challenge 5\n",
    "There are $|\\text{Bool}|^{|\\text{Bool}|} = 2^2 = 4$ functions from `Bool` to `Bool`."
   ]
  },
  {
   "cell_type": "code",
   "execution_count": null,
   "id": "51464565",
   "metadata": {},
   "outputs": [],
   "source": [
    "f1 :: Bool -> Bool\n",
    "f1 = id\n",
    "\n",
    "f2 :: Bool -> Bool\n",
    "f2 = not\n",
    "\n",
    "f3 :: Bool -> Bool\n",
    "f3 = const False\n",
    "\n",
    "f4 :: Bool -> Bool\n",
    "f4 = const True"
   ]
  },
  {
   "cell_type": "markdown",
   "id": "6f1cf1ce",
   "metadata": {},
   "source": [
    "## Chapter 3: Categories Great and Small"
   ]
  },
  {
   "cell_type": "markdown",
   "id": "a13610a2",
   "metadata": {},
   "source": [
    "### Challenge 3\n",
    "\n",
    "```haskell\n",
    "import Data.Monoid\n",
    "\n",
    "instance Monoid Bool where\n",
    "    mempty = True\n",
    "    mappend = (&&)\n",
    "\n",
    "instance Monoid Bool where\n",
    "    mempty = False\n",
    "    mappend = (||)\n",
    "```"
   ]
  },
  {
   "cell_type": "markdown",
   "id": "98853970",
   "metadata": {},
   "source": [
    "### Challenge 5"
   ]
  },
  {
   "cell_type": "code",
   "execution_count": null,
   "id": "2dae41d8",
   "metadata": {},
   "outputs": [],
   "source": [
    "import Data.Monoid\n",
    "import Data.Semigroup\n",
    "\n",
    "newtype Z3 = Z3 Int\n",
    "    deriving Show\n",
    "\n",
    "instance Semigroup Z3 where\n",
    "    (Z3 x) <> (Z3 y) = Z3 ((x + y) `mod` 3)\n",
    "\n",
    "instance Monoid Z3 where\n",
    "    mempty = Z3 0"
   ]
  },
  {
   "cell_type": "code",
   "execution_count": null,
   "id": "a66e6050",
   "metadata": {},
   "outputs": [],
   "source": [
    "foldMap Z3 [2, 1, 2]"
   ]
  },
  {
   "cell_type": "markdown",
   "id": "2b1f792d",
   "metadata": {},
   "source": [
    "## Chapter 6: Simple Algebraic Data Types"
   ]
  },
  {
   "cell_type": "markdown",
   "id": "22b8ace3",
   "metadata": {},
   "source": [
    "### Challenge 1\n",
    "Show the isomorphism between `Maybe a` and `Either () a`."
   ]
  },
  {
   "cell_type": "code",
   "execution_count": null,
   "id": "a71999d2",
   "metadata": {},
   "outputs": [],
   "source": [
    "maybeToEither :: Maybe a -> Either () a\n",
    "maybeToEither Nothing = Left ()\n",
    "maybeToEither (Just x) = Right x\n",
    "\n",
    "eitherToMaybe :: Either () a -> Maybe a\n",
    "eitherToMaybe (Left _) = Nothing\n",
    "eitherToMaybe (Right x) = Just x"
   ]
  },
  {
   "cell_type": "code",
   "execution_count": null,
   "id": "7ca89285",
   "metadata": {},
   "outputs": [],
   "source": [
    "eitherToMaybe $ maybeToEither Nothing"
   ]
  },
  {
   "cell_type": "code",
   "execution_count": null,
   "id": "081c9f5a",
   "metadata": {},
   "outputs": [],
   "source": [
    "eitherToMaybe $ maybeToEither $ Just 42"
   ]
  },
  {
   "cell_type": "markdown",
   "id": "bd41fe96",
   "metadata": {},
   "source": [
    "### Challenge 4\n",
    "Define new shape `Square` and extend `area` and `circ`."
   ]
  },
  {
   "cell_type": "code",
   "execution_count": null,
   "id": "670af330",
   "metadata": {},
   "outputs": [],
   "source": [
    "data Shape = Circle Float | Rect Float Float | Square Float\n",
    "\n",
    "area :: Shape -> Float\n",
    "area (Circle r) = pi * r^2\n",
    "area (Rect d h) = d * h\n",
    "area (Square s) = s^2\n",
    "\n",
    "circ :: Shape -> Float\n",
    "circ (Circle r) = 2 * pi * r\n",
    "circ (Rect d h) = 2 * (d + h)\n",
    "circ (Square s) = 4 * s"
   ]
  },
  {
   "cell_type": "markdown",
   "id": "5728048b",
   "metadata": {},
   "source": [
    "### Challenge 5\n",
    "Show that $a + a = 2 \\times a$ up to isomorphism where $a \\times b$ is `(a, b)` and $a + b$ is `Either a b` ($2$ in this setup corresponds to `Bool`).\n",
    "\n",
    "The definition below works up to isomorphism in the choice between\n",
    " 1. `Left -> False` vs `Left -> True`\n",
    " 1. `(Bool, a)` vs `(a, Bool)`"
   ]
  },
  {
   "cell_type": "code",
   "execution_count": null,
   "id": "0d03d80e",
   "metadata": {},
   "outputs": [],
   "source": [
    "toFlagged :: Either a a -> (Bool, a)\n",
    "toFlagged (Left x) = (False, x)\n",
    "toFlagged (Right x) = (True, x)\n",
    "\n",
    "fromFlagged :: (Bool, a) -> Either a a\n",
    "fromFlagged (False, x) = Left x\n",
    "fromFlagged (True, x) = Right x"
   ]
  },
  {
   "cell_type": "markdown",
   "id": "0ddb38cd",
   "metadata": {},
   "source": [
    "## Chapter 7: Functors"
   ]
  },
  {
   "cell_type": "markdown",
   "id": "20edfc66",
   "metadata": {},
   "source": [
    "### Challenge 1\n",
    "Can the following definition for `Maybe` be made into a `Functor`?\n",
    "```haskell\n",
    "fmap :: (a -> b) -> Maybe a -> Maybe b\n",
    "fmap _ _ = Nothing\n",
    "```\n",
    "\n",
    "#### Id Law: $\\text{fmap}_f \\text{id}_a = \\text{id}_{f a}$\n",
    "\n",
    "- Case `Nothing`:\n",
    "```haskell\n",
    "fmap id Nothing\n",
    "= Nothing\n",
    "= id Nothing\n",
    "```\n",
    "- Case `Just` is not satisfied!\n",
    "```haskell\n",
    "fmap id (Just x)\n",
    "= Nothing\n",
    "/= Just x\n",
    "= id (Just x)\n",
    "```"
   ]
  },
  {
   "cell_type": "markdown",
   "id": "5dab9a39",
   "metadata": {},
   "source": [
    "### Challenge 2\n",
    "Prove the `Functor` laws for the *Reader* functor:\n",
    "```haskell\n",
    "instance Functor ((->) r) where\n",
    "    -- fmap :: (a -> b) -> (r -> a) -> (r -> b)\n",
    "    fmap f g = f . g\n",
    "```\n",
    "\n",
    "#### Id Law: `fmap id = id`\n",
    "```haskell\n",
    "fmap id f\n",
    "= id . f\n",
    "= f\n",
    "```\n",
    "So `fmap id` has the same effect on `f` as if `f` was just alone, i.e. the same as `id` has. Therefore `fmap id = id`. \n",
    "\n",
    "#### Composition Law: `fmap (g . f) = fmap g . fmap f`\n",
    "Case `Just` is not satisfied!\n",
    "```haskell\n",
    "fmap (g . f) h\n",
    "= (g . f) . h\n",
    "= g . f . h\n",
    "= g . (f . h)\n",
    "= fmap g (f . h)\n",
    "= fmap g (fmap f h)\n",
    "= (fmap g . fmap f) h\n",
    "```"
   ]
  },
  {
   "cell_type": "markdown",
   "id": "e46c8793",
   "metadata": {},
   "source": [
    "### Challenge 4\n",
    "Prove the functor laws for the list functor.\n",
    "\n",
    "```haskell\n",
    "instance Functor [] where\n",
    "    -- fmap :: (a -> b) -> [a] -> [b]\n",
    "    fmap _ [] = []\n",
    "    fmap f (x:xs) = f x : (fmap f xs)\n",
    "```\n",
    "\n",
    "#### Id Law: `fmap id = id`\n",
    "Base case `[]`:\n",
    "```haskell\n",
    "fmap id []\n",
    "= []\n",
    "```\n",
    "i.e. `fmap id` acts as `id` on `[]`.\n",
    "\n",
    "For the inductive step, let's assume that the relation `fmap id xs = xs` holds for some list `xs`. Then\n",
    "```haskell\n",
    "fmap id (x:xs)\n",
    "= {- applying the definition of fmap -}\n",
    "  id x : (fmap id xs)\n",
    "= {- applying id on x -}\n",
    "  x : (fmap id xs)\n",
    "= {- induction hypothesis -}\n",
    "  x : xs\n",
    "```\n",
    "proves that `fmap id` acts on `(x:xs)` just like `id`.\n",
    "\n",
    "#### Composition Law: `fmap (g . f) = fmap g . fmap f`\n",
    "Base case `[]`:\n",
    "```haskell\n",
    "fmap (g . f) []\n",
    "= []\n",
    "= fmap g []\n",
    "= fmap g (fmap f [])\n",
    "= (fmap g . fmap f) []\n",
    "```\n",
    "\n",
    "For the inductive step, let's assume that the relation `fmap (g . f) xs = (fmap g . fmap f) xs` holds for some list `xs`. Then\n",
    "```haskell\n",
    "fmap (g . f) (x:xs)\n",
    "= {- applying the definition of fmap -}\n",
    "  (g . f) x : (fmap (g . f) xs)\n",
    "= {- applying (g . f) on x -}\n",
    "  g (f x) : (fmap (g . f) xs)\n",
    "= {- induction hypothesis -}\n",
    "  g (f x) : ((fmap g . fmap f) xs)\n",
    "= {- writing down (fmap g . fmap f) explicitly -}\n",
    "  g (f x) : (fmap g (fmap f xs))\n",
    "= {- factoring out g mapping the head (f x) and the tail (fmap f xs) as (fmap g) over the cons operator -}\n",
    "  fmap g (f x : (fmap f xs))\n",
    "= {- repeat previous step for f -}\n",
    "  fmap g (fmap f (x:xs))\n",
    "= {- rewrite double fmap application as a composition (fmap g . fmap f) -}\n",
    "  (fmap g . fmap f) (x:xs)\n",
    "```\n",
    "proves that `fmap (g . f)` acts on `(x:xs)` just like `(fmap g . fmap f)`."
   ]
  },
  {
   "cell_type": "markdown",
   "id": "66259e2d",
   "metadata": {},
   "source": [
    "## Chapter 8: Functoriality"
   ]
  },
  {
   "cell_type": "markdown",
   "id": "8868a366",
   "metadata": {},
   "source": [
    "### Challenge 1\n",
    "Show that `Pair` (defined below) is a *bifunctor*."
   ]
  },
  {
   "cell_type": "code",
   "execution_count": null,
   "id": "be90f4e0",
   "metadata": {},
   "outputs": [],
   "source": [
    "import Data.Bifunctor\n",
    "\n",
    "data Pair a b = Pair a b\n",
    "    deriving Show\n",
    "\n",
    "instance Bifunctor Pair where\n",
    "    -- default: `bimap f g = first g . second h`\n",
    "    -- bimap :: (a -> c) -> (b -> d) -> Pair a b -> Pair c d\n",
    "    bimap g h (Pair x y) = Pair (g x) (h y)\n",
    "    \n",
    "    -- default: `first g = bimap g id`\n",
    "    -- first :: (a -> c) -> Pair a b -> Pair c b\n",
    "    first g (Pair x y) = Pair (g x) y\n",
    "    \n",
    "    -- default: `second = bimap id`\n",
    "    -- second :: (b -> d) -> Pair a b -> Pair a d\n",
    "    second h (Pair x y) = Pair x (h y)"
   ]
  },
  {
   "cell_type": "code",
   "execution_count": null,
   "id": "f794fb75",
   "metadata": {},
   "outputs": [],
   "source": [
    "bimap (+1) (^2) (Pair 41 3)"
   ]
  },
  {
   "cell_type": "code",
   "execution_count": null,
   "id": "23fec528",
   "metadata": {},
   "outputs": [],
   "source": [
    "first (+1) (Pair 41 3)"
   ]
  },
  {
   "cell_type": "code",
   "execution_count": null,
   "id": "ef7a7eea",
   "metadata": {},
   "outputs": [],
   "source": [
    "second (^2) (Pair 41 3)"
   ]
  },
  {
   "cell_type": "markdown",
   "id": "7550d6b2",
   "metadata": {},
   "source": [
    "Additionally, let's show that the definitions above are compatible with mentioned default implementations.\n",
    "\n",
    "#### `bimap`\n",
    "```haskell\n",
    "bimap g h (Pair x y)\n",
    "= {- default definition -}\n",
    "  (first g . second h) (Pair x y)\n",
    "= {- definition of composition -}\n",
    "  first g (second h (Pair x y))\n",
    "= {- apply definition for second and eliminate id on x -}\n",
    "  first g (Pair x (h y))\n",
    "= {- apply definition for first and eliminate id on (h y) -}\n",
    "  Pair (g x) (h y)\n",
    "= {- custom definition -}\n",
    "  bimap g h (Pair x y)\n",
    "```\n",
    "\n",
    "#### `first`\n",
    "```haskell\n",
    "first g (Pair x y)\n",
    "= {- default definition -}\n",
    "  bimap g id (Pair x y)\n",
    "= {- definition of bimap -}\n",
    "  Pair (g x) (id y)\n",
    "= {- apply id to y -}\n",
    "  Pair (g x) y\n",
    "= {- custom definition -}\n",
    "  first g (Pair x y)\n",
    "```\n",
    "\n",
    "#### `second`\n",
    "```haskell\n",
    "second h (Pair x y)\n",
    "= {- default definition -}\n",
    "  bimap id h (Pair x y)\n",
    "= {- definition of bimap -}\n",
    "  Pair (id x) (h y)\n",
    "= {- apply id to x -}\n",
    "  Pair x (h y)\n",
    "= {- custom definition -}\n",
    "  second h (Pair x y)\n",
    "```"
   ]
  },
  {
   "cell_type": "markdown",
   "id": "f8c2f363",
   "metadata": {},
   "source": [
    "### Challenge 2\n",
    "Show the isomorphism between the standard definition of `Maybe` and desugared custom definition `Maybe'`.\n",
    "\n",
    "```haskell\n",
    "data Maybe a = Nothing | Just a\n",
    "```"
   ]
  },
  {
   "cell_type": "code",
   "execution_count": null,
   "id": "080f108c",
   "metadata": {},
   "outputs": [],
   "source": [
    "import Data.Functor.Const\n",
    "import Data.Functor.Identity\n",
    "\n",
    "type Maybe' a = Either (Const () a) (Identity a)\n",
    "\n",
    "preludeToPrime :: Maybe a -> Maybe' a\n",
    "preludeToPrime Nothing = Left (Const ())\n",
    "preludeToPrime (Just x) = Right (Identity x)\n",
    "\n",
    "primeToPrelude :: Maybe' a -> Maybe a\n",
    "primeToPrelude (Left _) = Nothing\n",
    "primeToPrelude (Right (Identity x)) = Just x"
   ]
  },
  {
   "cell_type": "markdown",
   "id": "a1521e91",
   "metadata": {},
   "source": [
    "Additionally, let's shorten `preludeToPrime` to `f` and `primeToPrelude` to `f'` and show that these are inverses, i.e. `f' . f = id`.\n",
    "\n",
    "#### Case `Nothing` / `Const () a`\n",
    "```haskell\n",
    "(f' . f) Nothing\n",
    "= {- definition of composition -}\n",
    "  f' (f Nothing)\n",
    "= {- apply f (preludeToPrime) -}\n",
    "  f' (Left (Const ()))\n",
    "= {- apply f' (primeToPrelude) -}\n",
    "  Nothing\n",
    "```\n",
    "So `(f' . f)` acts on `Nothing` just as `id` does.\n",
    "\n",
    "#### Case `Just a` / `Identity a`\n",
    "```haskell\n",
    "(f' . f) (Just x)\n",
    "= {- definition of composition -}\n",
    "  f' (f (Just x))\n",
    "= {- apply f (preludeToPrime) -}\n",
    "  f' (Right (Identity x)))\n",
    "= {- apply f' (primeToPrelude) -}\n",
    "  Just x\n",
    "```\n",
    "Again, `(f' . f)` is equivalent to `id` when applied to `Just x`."
   ]
  },
  {
   "cell_type": "markdown",
   "id": "90ea60a8",
   "metadata": {},
   "source": [
    "### Challenge 3\n",
    "Give an instance of `Bifunctor` for `PreList` which is defined below.\n",
    "*Note: `PreList` can be viewed as a precursor to `List`.*"
   ]
  },
  {
   "cell_type": "code",
   "execution_count": null,
   "id": "df785a8f",
   "metadata": {},
   "outputs": [],
   "source": [
    "data PreList a b = Nil | Cons a b\n",
    "\n",
    "instance Bifunctor PreList where\n",
    "    -- bimap :: (a -> b) -> (c -> d) -> PreList a c -> PreList b d\n",
    "    bimap _ _ Nil = Nil\n",
    "    bimap g h (Cons x y) = Cons (g x) (h y)"
   ]
  },
  {
   "cell_type": "markdown",
   "id": "2f6b8353",
   "metadata": {},
   "source": [
    "### Challenge 4\n",
    "Give `Bifunctor` instances for following types."
   ]
  },
  {
   "cell_type": "code",
   "execution_count": null,
   "id": "39f1ef09",
   "metadata": {},
   "outputs": [],
   "source": [
    "newtype K2 c a b = K2 c\n",
    "\n",
    "instance Bifunctor (K2 x) where\n",
    "    -- bimap :: (a -> b) -> (c -> d) -> (K2 x) a c -> (K2 x) b d\n",
    "    bimap _ _ (K2 x) = K2 x\n",
    "\n",
    "newtype Fst a b = Fst a\n",
    "\n",
    "instance Bifunctor Fst where\n",
    "    -- bimap :: (a -> b) -> (c -> d) -> Fst a c -> Fst b d\n",
    "    bimap g _ (Fst x) = Fst (g x)\n",
    "\n",
    "newtype Snd a b = Snd b\n",
    "\n",
    "instance Bifunctor Snd where\n",
    "    -- bimap :: (a -> b) -> (c -> d) -> Snd a c -> Snd b d\n",
    "    bimap _ h (Snd x) = Snd (h x)"
   ]
  },
  {
   "cell_type": "markdown",
   "id": "c8dca0b3",
   "metadata": {},
   "source": [
    "## Chapter 10: Natural Transformations"
   ]
  },
  {
   "cell_type": "markdown",
   "id": "063cfe60",
   "metadata": {},
   "source": [
    "### Challenge 1\n",
    "Define natural transformation between `Maybe a` and `[a]` functors."
   ]
  },
  {
   "cell_type": "code",
   "execution_count": null,
   "id": "9df39723",
   "metadata": {},
   "outputs": [],
   "source": [
    "toList :: Maybe a -> [a]\n",
    "toList Nothing = []\n",
    "toList (Just x) = [x]"
   ]
  },
  {
   "cell_type": "code",
   "execution_count": null,
   "id": "109495cd",
   "metadata": {},
   "outputs": [],
   "source": [
    "toList $ Just 42"
   ]
  },
  {
   "cell_type": "code",
   "execution_count": null,
   "id": "50d7b66f",
   "metadata": {},
   "outputs": [],
   "source": [
    "toList Nothing"
   ]
  },
  {
   "cell_type": "markdown",
   "id": "539c3901",
   "metadata": {},
   "source": [
    "Furthermore, let's prove the *naturality condition* for `toList` defined above:\n",
    "\n",
    "#### `Nothing`\n",
    "```haskell\n",
    "(fmap f . toList) Nothing\n",
    "= {- definition of composition -}\n",
    "  fmap f (toList Nothing)\n",
    "= {- definition of toList -}\n",
    "  fmap f []\n",
    "= {- definition of fmap for the list functor -}\n",
    "  []\n",
    "= {- definition of toList -}\n",
    "  toList Nothing\n",
    "= {- definition of fmap for the Maybe functor -}\n",
    "  toList (fmap f Nothing)\n",
    "= {- definition of composition -}\n",
    "  (toList . fmap f) Nothing\n",
    "```\n",
    "which proves the naturality condition for the first case (`Nothing`).\n",
    "\n",
    "#### `Just x`\n",
    "```haskell\n",
    "(fmap f . toList) (Just x)\n",
    "= {- definition of composition -}\n",
    "  fmap f (toList (Just x))\n",
    "= {- definition of toList -}\n",
    "  fmap f [x]\n",
    "= {- definition of fmap for the list functor -}\n",
    "  [f x]\n",
    "= {- definition of toList -}\n",
    "  toList (Just (f x))\n",
    "= {- definition of fmap for the Maybe functor -}\n",
    "  toList (fmap f (Just x))\n",
    "= {- definition of composition -}\n",
    "  (toList . fmap f) (Just x)\n",
    "```\n",
    "This concludes the proof of the naturality condition `fmap f . toList = toList . fmap f`."
   ]
  },
  {
   "cell_type": "markdown",
   "id": "680791ca",
   "metadata": {},
   "source": [
    "### Challenge 2\n",
    "Define two natural transformations between `Reader () a` and `[a]` functors."
   ]
  },
  {
   "cell_type": "code",
   "execution_count": null,
   "id": "d7f8b101",
   "metadata": {},
   "outputs": [],
   "source": [
    "type Reader r a = r -> a\n",
    "\n",
    "alpha :: Reader () a -> [a]\n",
    "alpha r = [r ()]\n",
    "\n",
    "beta :: Reader () a -> [a]\n",
    "beta r = r () : beta r"
   ]
  },
  {
   "cell_type": "markdown",
   "id": "5ef863d7",
   "metadata": {},
   "source": [
    "### Challenge 3\n",
    "Define two natural transformations between `Reader Bool a` and `Maybe a` functors."
   ]
  },
  {
   "cell_type": "code",
   "execution_count": null,
   "id": "731ae152",
   "metadata": {},
   "outputs": [],
   "source": [
    "alpha :: Reader Bool a -> Maybe a\n",
    "alpha r = Just (r True)\n",
    "\n",
    "beta :: Reader Bool a -> Maybe a\n",
    "beta r = Just (r False)"
   ]
  },
  {
   "cell_type": "markdown",
   "id": "ab629ac2",
   "metadata": {},
   "source": [
    "## Chapter 12: Limits and Colimits"
   ]
  },
  {
   "cell_type": "markdown",
   "id": "0d6e13de",
   "metadata": {},
   "source": [
    "### Challenge 2\n",
    "Show that the limit of the identity functor $\\mathbf{Id}: C \\to C$ is the initial object.\n",
    "\n",
    "```haskell\n",
    "newtype Id a = Id a\n",
    "\n",
    "instance Functor Id where\n",
    "    -- fmap :: (a -> b) -> f a -> f b\n",
    "    fmap f (Id x) = Id (f x)\n",
    "```\n",
    "\n",
    "Since $\\mathbf{Id}$ just \"copies\" $C$ as the diagram, $\\mathrm{Lim}\\:\\mathbf{Id}$ will have a unique morphism any object in $C$. This morphism is unique up to unique isomorphism with some other candidate $\\Delta c$. I.e. $C(\\Delta_c, \\mathrm{Lim}\\:\\mathbf{Id}) \\simeq Nat(\\Delta_c, \\mathbf{Id})$. This description corresponds to the definition of the *initial object* (here $\\mathrm{Lim}\\;\\mathbf{Id}$)."
   ]
  },
  {
   "cell_type": "markdown",
   "id": "898de6ae",
   "metadata": {},
   "source": [
    "### Challenge 3 *[TODO]*\n",
    "Subsets $A \\subseteq B$ of given set $B$ form a category:\n",
    " - objects are subsets of $B$\n",
    " - there's a morphism $A \\to B$ iff $A \\subseteq B$\n",
    " - identity, composition and associativity of morphisms follow from set theory\n",
    "\n",
    "What is the *pullback*, *pushout* and *initial* and *terminal* objects?"
   ]
  },
  {
   "cell_type": "markdown",
   "id": "df3b8364",
   "metadata": {},
   "source": [
    "### Challenge 4\n",
    "See the defintion an examples of a *coequalizer*\n",
    " - either on [Wikipedia](https://en.wikipedia.org/wiki/Coequalizer)\n",
    " - or on the [nLab](https://ncatlab.org/nlab/show/coequalizer)"
   ]
  },
  {
   "cell_type": "markdown",
   "id": "ef73eba8",
   "metadata": {},
   "source": [
    "### Challenge 5 *[TODO]*\n",
    "Show that in a category with a termianl object, a pullback towards the terminal object is a product."
   ]
  },
  {
   "cell_type": "markdown",
   "id": "dee8b23e",
   "metadata": {},
   "source": [
    "### Challenge 6 *[TODO]*\n",
    "Show that in a category with an initial object, a pullout from the initial object is a coproduct."
   ]
  },
  {
   "cell_type": "markdown",
   "id": "0f987167",
   "metadata": {},
   "source": [
    "## Chapter 13: Free Monoids"
   ]
  },
  {
   "cell_type": "markdown",
   "id": "b3da0473",
   "metadata": {},
   "source": [
    "### Challenge 1\n",
    "Show that an isomorphism between monoids that preserves multiplication must automatically preserve unit.\n",
    "\n",
    "Let's assume there's an isomorphism $h$ preserving multiplication: $h(a \\bullet b) = h(a) \\bullet h(b)$. Therefore for a unit $e$ it must hold that $h(a) \\bullet h(e) = h(a \\bullet e) = h(a)$ (and similarly for the right unit).\n",
    "\n",
    "Let's assume there could be a \"true\" unit $e' \\neq h(e)$ outside the image of $h$ for the target monoid. Then $h^{-1}(e') = x \\neq e$ but also\n",
    "$$\n",
    "h(a \\bullet e) = h(a) \\bullet h(e) = h(a) = h(a) \\bullet e' = h(a \\bullet h^{-1}(e')) = h(a \\bullet x)\n",
    "$$\n",
    "where in the last term $x \\neq e$. This is in contradiction with the assumption that $h$ is an isomorphism. $\\blacksquare$"
   ]
  },
  {
   "cell_type": "markdown",
   "id": "3700a693",
   "metadata": {},
   "source": [
    "### Challenge 2\n",
    "Consider monoid homomorphism `h` from `([Int], (++))` to `(Int, (*))`.\n",
    "\n",
    "**What is `h []`?**\n",
    "\n",
    "`h [] = 1` because `xs ++ [] = xs = [] ++ xs` and so does `1` for `(*)`.\n",
    "\n",
    "**Assuming `h [x] = x`, what's `h [1, 2, 3, 4]`?**\n",
    "```haskell\n",
    "h [1, 2, 3, 4]\n",
    "= {- definition of multiplication in Monoid [Int] -}\n",
    "  h ([1] ++ [2] ++ [3] ++ [4])\n",
    "= {- definition of multiplication in Monoid Int and the fact that h preserves monoidal multiplication -}\n",
    "  h [1] * h [2] * h [3] * h[4]\n",
    "= {- defintion of h -}\n",
    "  1 * 2 * 3 * 4\n",
    "= {- multiplication in Monoid Int -}\n",
    "  24\n",
    "```\n",
    "\n",
    "**How many different lists map to 12?**\n",
    "\n",
    "The number of different lists `xs` is the count of `xs` solving `prod xs = 12`.\n",
    "\n",
    "`[12]`, `[2, 6]`, `[2, 2, 3]`, `[3, 4]` all map to 12 under `h`. Additionally there are permutations of these and disregarding 1 as the unit for `(*)` (i.e. the fact that `h [1, 1, 1, 1, 2, 3] = 12 = h [2, 3]`)."
   ]
  },
  {
   "cell_type": "markdown",
   "id": "ebe1ba82",
   "metadata": {},
   "source": [
    "### Challenge 3 *[TODO]*\n",
    "What is the *free monoid* generated by a one-element set? What is it isomorphic to?"
   ]
  },
  {
   "cell_type": "markdown",
   "id": "b337d182",
   "metadata": {},
   "source": [
    "## Chapter 14: Representable Functors"
   ]
  },
  {
   "cell_type": "markdown",
   "id": "36940a29",
   "metadata": {},
   "source": [
    "### Challenge 1\n",
    "Show that the *hom-functors* map identity morphisms in $C$ to corresponding identity functions in $\\mathrm{Set}$.\n",
    "\n",
    "Let's start with morphisms $h \\in C(a, x)$ and $f: x \\to y$ such that $f \\circ h \\in C(a, y)$ for arbitrary objects $a, x, y \\in C$. Than if we assume $x = y$ (i.e. degenerate the commuting triangle), $f = id_x$.\n",
    "\n",
    "But then the hom-functor maps this as $C(a, id)h = h \\circ id = h$ which shows that it is the identity function in $\\mathrm{Set}$."
   ]
  },
  {
   "cell_type": "markdown",
   "id": "b9cbf062",
   "metadata": {},
   "source": [
    "## Challenge 2\n",
    "Show that the `Maybe` functor is not *representable*.\n",
    "\n",
    "In order to show that `Maybe` is representable, there must be an invertible natural transformation, i.e. two morphisms such that $\\alpha \\circ \\beta = id = \\beta \\circ \\alpha$:\n",
    "```haskell\n",
    "-- Note: think of this as `tabulate`\n",
    "alpha :: (a -> x) -> Maybe x\n",
    "\n",
    "-- Note: think of this as `index`\n",
    "beta :: Maybe x -> (a -> x)\n",
    "```\n",
    "\n",
    "The problem with `Maybe`, and with `Nothing` in particular, is that there is no `beta Nothing` that would produce an indexation function yielding `x` that would not break the invertibility of the natural transformation.\n",
    "\n",
    "```haskell\n",
    "alpha f = Just . f\n",
    "\n",
    "beta (Maybe x) = \\_ -> x\n",
    "beta Nothing = undefined\n",
    "```"
   ]
  },
  {
   "cell_type": "markdown",
   "id": "dfa30808",
   "metadata": {},
   "source": [
    "### Challenge 3\n",
    "Is the `Reader` functor *representable*? Yes, there's a trivial isomorphism to `r -> a`.\n",
    "```haskell\n",
    "type Reader r a = r -> a\n",
    "\n",
    "-- From `adjuctions` package sources\n",
    "instance Representable ((->) e) where\n",
    "  type Rep ((->) e) = e\n",
    "  index = id\n",
    "  tabulate = id\n",
    "```"
   ]
  },
  {
   "cell_type": "markdown",
   "id": "6d76da96",
   "metadata": {},
   "source": [
    "### Challenge 4\n",
    "Using `Stream` representation (given below), memoize a function that squares its argument."
   ]
  },
  {
   "cell_type": "code",
   "execution_count": null,
   "id": "d8164dc2",
   "metadata": {},
   "outputs": [],
   "source": [
    "-- from package `adjuctions`\n",
    "-- import Data.Functor.Rep\n",
    "-- or from package `representable-functors`\n",
    "-- import Data.Functor.Representable\n",
    "\n",
    "{-# LANGUAGE TypeFamilies #-}\n",
    "{-# LANGUAGE FlexibleContexts #-}\n",
    "\n",
    "class Representable f where\n",
    "    type Rep f :: *\n",
    "    tabulate :: (Rep f -> x) -> f x\n",
    "    index :: f x -> Rep f -> x\n",
    "\n",
    "data Stream x = Cons x (Stream x)\n",
    "\n",
    "instance Representable Stream where\n",
    "    type Rep Stream = Integer\n",
    "    tabulate f = Cons (f 0) (tabulate (f . (+1)))\n",
    "    index (Cons b bs) n\n",
    "        | n < 0 = error \"key in index must be a non-negative integer\"\n",
    "        | n == 0 = b\n",
    "        | otherwise = index bs (n - 1)"
   ]
  },
  {
   "cell_type": "code",
   "execution_count": null,
   "id": "011038cf",
   "metadata": {},
   "outputs": [],
   "source": [
    "square :: Integer -> Integer\n",
    "square = index squares\n",
    "    where\n",
    "        -- This type annotation is needed.\n",
    "        -- For some reason the second argument of `index` would not otherwise match correctly.\n",
    "        squares :: Stream Integer\n",
    "        squares = tabulate (^2)"
   ]
  },
  {
   "cell_type": "code",
   "execution_count": null,
   "id": "ef986be4",
   "metadata": {},
   "outputs": [],
   "source": [
    "square 3"
   ]
  },
  {
   "cell_type": "markdown",
   "id": "54be7e74",
   "metadata": {},
   "source": [
    "### Challenge 6\n",
    "Implement `Representable` for the type `Pair a = Pair a a`."
   ]
  },
  {
   "cell_type": "code",
   "execution_count": null,
   "id": "9b5d2b24",
   "metadata": {},
   "outputs": [],
   "source": [
    "data Pair a = Pair a a\n",
    "\n",
    "instance Representable Pair where\n",
    "    type Rep Pair = Bool\n",
    "    tabulate f = Pair (f True) (f False)\n",
    "    index (Pair x y) first = if first then x else y"
   ]
  }
 ],
 "metadata": {
  "kernelspec": {
   "display_name": "Haskell",
   "language": "haskell",
   "name": "haskell"
  },
  "language_info": {
   "codemirror_mode": "ihaskell",
   "file_extension": ".hs",
   "mimetype": "text/x-haskell",
   "name": "haskell",
   "pygments_lexer": "Haskell",
   "version": "8.10.4"
  }
 },
 "nbformat": 4,
 "nbformat_minor": 5
}
