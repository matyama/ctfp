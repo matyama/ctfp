{
 "cells": [
  {
   "cell_type": "markdown",
   "id": "6d164023",
   "metadata": {},
   "source": [
    "# Category Theory for Programmers"
   ]
  },
  {
   "cell_type": "markdown",
   "id": "c5bf04b0",
   "metadata": {},
   "source": [
    "## Chapter 2: Types and Functions"
   ]
  },
  {
   "cell_type": "markdown",
   "id": "7d168a7e",
   "metadata": {},
   "source": [
    "### Challenge 5\n",
    "There are $|\\text{Bool}|^{|\\text{Bool}|^1} = 2^2 = 4$ functions from `Bool` to `Bool`."
   ]
  },
  {
   "cell_type": "code",
   "execution_count": null,
   "id": "51464565",
   "metadata": {},
   "outputs": [],
   "source": [
    "f1 :: Bool -> Bool\n",
    "f1 = id\n",
    "\n",
    "f2 :: Bool -> Bool\n",
    "f2 = not\n",
    "\n",
    "f3 :: Bool -> Bool\n",
    "f3 = const False\n",
    "\n",
    "f4 :: Bool -> Bool\n",
    "f4 = const True"
   ]
  },
  {
   "cell_type": "markdown",
   "id": "6f1cf1ce",
   "metadata": {},
   "source": [
    "## Chapter 3: Categories Great and Small"
   ]
  },
  {
   "cell_type": "markdown",
   "id": "a13610a2",
   "metadata": {},
   "source": [
    "### Challenge 3\n",
    "\n",
    "```haskell\n",
    "import Data.Monoid\n",
    "\n",
    "instance Monoid Bool where\n",
    "    mempty = True\n",
    "    mappend = (&&)\n",
    "\n",
    "instance Monoid Bool where\n",
    "    mempty = False\n",
    "    mappend = (||)\n",
    "```"
   ]
  },
  {
   "cell_type": "markdown",
   "id": "98853970",
   "metadata": {},
   "source": [
    "### Challenge 5"
   ]
  },
  {
   "cell_type": "code",
   "execution_count": null,
   "id": "2dae41d8",
   "metadata": {},
   "outputs": [],
   "source": [
    "import Data.Monoid\n",
    "import Data.Semigroup\n",
    "\n",
    "newtype Z3 = Z3 Int\n",
    "    deriving Show\n",
    "\n",
    "instance Semigroup Z3 where\n",
    "    (Z3 x) <> (Z3 y) = Z3 ((x + y) `mod` 3)\n",
    "\n",
    "instance Monoid Z3 where\n",
    "    mempty = Z3 0"
   ]
  },
  {
   "cell_type": "code",
   "execution_count": null,
   "id": "a66e6050",
   "metadata": {},
   "outputs": [],
   "source": [
    "foldMap Z3 [2, 1, 2]"
   ]
  },
  {
   "cell_type": "markdown",
   "id": "2b1f792d",
   "metadata": {},
   "source": [
    "## Chapter 6: Simple Algebraic Data Types"
   ]
  },
  {
   "cell_type": "markdown",
   "id": "22b8ace3",
   "metadata": {},
   "source": [
    "### Challenge 1\n",
    "Show the isomorphism between `Maybe a` and `Either () a`."
   ]
  },
  {
   "cell_type": "code",
   "execution_count": null,
   "id": "a71999d2",
   "metadata": {},
   "outputs": [],
   "source": [
    "maybeToEither :: Maybe a -> Either () a\n",
    "maybeToEither Nothing = Left ()\n",
    "maybeToEither (Just x) = Right x\n",
    "\n",
    "eitherToMaybe :: Either () a -> Maybe a\n",
    "eitherToMaybe (Left _) = Nothing\n",
    "eitherToMaybe (Right x) = Just x"
   ]
  },
  {
   "cell_type": "code",
   "execution_count": null,
   "id": "7ca89285",
   "metadata": {},
   "outputs": [],
   "source": [
    "eitherToMaybe $ maybeToEither Nothing"
   ]
  },
  {
   "cell_type": "code",
   "execution_count": null,
   "id": "081c9f5a",
   "metadata": {},
   "outputs": [],
   "source": [
    "eitherToMaybe $ maybeToEither $ Just 42"
   ]
  },
  {
   "cell_type": "markdown",
   "id": "bd41fe96",
   "metadata": {},
   "source": [
    "### Challenge 4\n",
    "Define new shape `Square` and extend `area` and `circ`."
   ]
  },
  {
   "cell_type": "code",
   "execution_count": null,
   "id": "670af330",
   "metadata": {},
   "outputs": [],
   "source": [
    "data Shape = Circle Float | Rect Float Float | Square Float\n",
    "\n",
    "area :: Shape -> Float\n",
    "area (Circle r) = pi * r^2\n",
    "area (Rect d h) = d * h\n",
    "area (Square s) = s^2\n",
    "\n",
    "circ :: Shape -> Float\n",
    "circ (Circle r) = 2 * pi * r\n",
    "circ (Rect d h) = 2 * (d + h)\n",
    "circ (Square s) = 4 * s"
   ]
  },
  {
   "cell_type": "markdown",
   "id": "5728048b",
   "metadata": {},
   "source": [
    "### Challenge 5\n",
    "Show that $a + a = 2 \\times a$ up to isomorphism where $a \\times a$ is `(a, b)` and $a + b$ is `Either a b` ($2$ in this setup corresponds to `Bool`).\n",
    "\n",
    "The definition below works up to isomorphism in the choice between\n",
    " 1. `Left -> False` vs `Left -> True`\n",
    " 1. `(Bool, a)` vs `(a, Bool)`"
   ]
  },
  {
   "cell_type": "code",
   "execution_count": null,
   "id": "0d03d80e",
   "metadata": {},
   "outputs": [],
   "source": [
    "toFlagged :: Either a a -> (Bool, a)\n",
    "toFlagged (Left x) = (False, x)\n",
    "toFlagged (Right x) = (True, x)\n",
    "\n",
    "fromFlagged :: (Bool, a) -> Either a a\n",
    "fromFlagged (False, x) = Left x\n",
    "fromFlagged (True, x) = Right x"
   ]
  },
  {
   "cell_type": "markdown",
   "id": "0ddb38cd",
   "metadata": {},
   "source": [
    "## Chapter 7: Functors"
   ]
  },
  {
   "cell_type": "markdown",
   "id": "20edfc66",
   "metadata": {},
   "source": [
    "### Challenge 1\n",
    "Can the following definition for `Maybe` be made into a `Functor`?\n",
    "```haskell\n",
    "fmap :: (a -> b) -> Maybe a -> Maybe b\n",
    "fmap _ _ = Nothing\n",
    "```\n",
    "\n",
    "#### Id Law: $\\text{fmap}_f \\text{id}_a = \\text{id}_{f a}$\n",
    "\n",
    "- Case `Nothing`:\n",
    "```haskell\n",
    "fmap id Nothing\n",
    "= Nothing\n",
    "= id Nothing\n",
    "```\n",
    "- Case `Just` is not satisfied!\n",
    "```haskell\n",
    "fmap id (Just x)\n",
    "= Nothing\n",
    "/= Just x\n",
    "= id (Just x)\n",
    "```"
   ]
  },
  {
   "cell_type": "markdown",
   "id": "5dab9a39",
   "metadata": {},
   "source": [
    "### Challenge 2\n",
    "Prove the `Functor` laws for the *Reader* functor:\n",
    "```haskell\n",
    "instance Functor ((->) r) where\n",
    "    -- fmap :: (a -> b) -> (r -> a) -> (r -> b)\n",
    "    fmap f g = f . g\n",
    "```\n",
    "\n",
    "#### Id Law: `fmap id = id`\n",
    "```haskell\n",
    "fmap id f\n",
    "= id . f\n",
    "= f\n",
    "```\n",
    "So `fmap id` has the same effect on `f` as if `f` was just alone, i.e. the same as `id` has. Therefore `fmap id = id`. \n",
    "\n",
    "#### Composition Law: `fmap (g . f) = fmap g . fmap f`\n",
    "Case `Just` is not satisfied!\n",
    "```haskell\n",
    "fmap (g . f) h\n",
    "= (g . f) . h\n",
    "= g . f . h\n",
    "= g . (f . h)\n",
    "= fmap g (f . h)\n",
    "= fmap g (fmap f h)\n",
    "= (fmap g . fmap f) h\n",
    "```"
   ]
  },
  {
   "cell_type": "markdown",
   "id": "e46c8793",
   "metadata": {},
   "source": [
    "### Challenge 4\n",
    "Prove the functor laws for the list functor.\n",
    "\n",
    "```haskell\n",
    "instance Functor [] where\n",
    "    -- fmap :: (a -> b) -> [a] -> [b]\n",
    "    fmap _ [] = []\n",
    "    fmap f (x:xs) = f x : (fmap f xs)\n",
    "```\n",
    "\n",
    "#### Id Law: `fmap id = id`\n",
    "Base case `[]`:\n",
    "```haskell\n",
    "fmap id []\n",
    "= []\n",
    "```\n",
    "i.e. `fmap id` acts as `id` on `[]`.\n",
    "\n",
    "For the inductive step, let's assume that the relation `fmap id xs = xs` holds for some list `xs`. Then\n",
    "```haskell\n",
    "fmap id (x:xs)\n",
    "= {- applying the definition of fmap -}\n",
    "  id x : (fmap id xs)\n",
    "= {- applying id on x -}\n",
    "  x : (fmap id xs)\n",
    "= {- induction hypothesis -}\n",
    "  x : xs\n",
    "```\n",
    "proves that `fmap id` acts on `(x:xs)` just like `id`.\n",
    "\n",
    "#### Composition Law: `fmap (g . f) = fmap g . fmap f`\n",
    "Base case `[]`:\n",
    "```haskell\n",
    "fmap (g . f) []\n",
    "= []\n",
    "= fmap g []\n",
    "= fmap g (fmap f [])\n",
    "= (fmap g . fmap f) []\n",
    "```\n",
    "\n",
    "For the inductive step, let's assume that the relation `fmap (g . f) xs = (fmap g . fmap f) xs` holds for some list `xs`. Then\n",
    "```haskell\n",
    "fmap (g . f) (x:xs)\n",
    "= {- applying the definition of fmap -}\n",
    "  (g . f) x : (fmap (g . f) xs)\n",
    "= {- applying (g . f) on x -}\n",
    "  g (f x) : (fmap (g . f) xs)\n",
    "= {- induction hypothesis -}\n",
    "  g (f x) : ((fmap g . fmap f) xs)\n",
    "= {- writing down (fmap g . fmap f) explicitly -}\n",
    "  g (f x) : (fmap g (fmap f xs))\n",
    "= {- factoring out g mapping the head (f x) and the tail (fmap f xs) as (fmap g) over the cons operator -}\n",
    "  fmap g (f x : (fmap f xs))\n",
    "= {- repeat previous step for f -}\n",
    "  fmap g (fmap f (x:xs))\n",
    "= {- rewrite double fmap application as a composition (fmap g . fmap f) -}\n",
    "  (fmap g . fmap f) (x:xs)\n",
    "```\n",
    "proves that `fmap (g . f)` acts on `(x:xs)` just like `(fmap g . fmap f)`."
   ]
  }
 ],
 "metadata": {
  "kernelspec": {
   "display_name": "Haskell",
   "language": "haskell",
   "name": "haskell"
  },
  "language_info": {
   "codemirror_mode": "ihaskell",
   "file_extension": ".hs",
   "mimetype": "text/x-haskell",
   "name": "haskell",
   "pygments_lexer": "Haskell",
   "version": "8.10.4"
  }
 },
 "nbformat": 4,
 "nbformat_minor": 5
}
