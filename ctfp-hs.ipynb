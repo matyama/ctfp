{
 "cells": [
  {
   "cell_type": "markdown",
   "id": "6d164023",
   "metadata": {},
   "source": [
    "# Category Theory for Programmers"
   ]
  },
  {
   "cell_type": "markdown",
   "id": "2b1f792d",
   "metadata": {},
   "source": [
    "## Chapter 6: Simple Algebraic Data Types"
   ]
  },
  {
   "cell_type": "markdown",
   "id": "22b8ace3",
   "metadata": {},
   "source": [
    "### Challenge 1\n",
    "Show the isomorphism between `Maybe a` and `Either () a`."
   ]
  },
  {
   "cell_type": "code",
   "execution_count": null,
   "id": "a71999d2",
   "metadata": {},
   "outputs": [],
   "source": [
    "maybeToEither :: Maybe a -> Either () a\n",
    "maybeToEither Nothing = Left ()\n",
    "maybeToEither (Just x) = Right x\n",
    "\n",
    "eitherToMaybe :: Either () a -> Maybe a\n",
    "eitherToMaybe (Left _) = Nothing\n",
    "eitherToMaybe (Right x) = Just x"
   ]
  },
  {
   "cell_type": "code",
   "execution_count": null,
   "id": "7ca89285",
   "metadata": {},
   "outputs": [],
   "source": [
    "eitherToMaybe $ maybeToEither Nothing"
   ]
  },
  {
   "cell_type": "code",
   "execution_count": null,
   "id": "081c9f5a",
   "metadata": {},
   "outputs": [],
   "source": [
    "eitherToMaybe $ maybeToEither $ Just 42"
   ]
  },
  {
   "cell_type": "markdown",
   "id": "bd41fe96",
   "metadata": {},
   "source": [
    "### Challenge 4\n",
    "Define new shape `Square` and extend `area` and `circ`."
   ]
  },
  {
   "cell_type": "code",
   "execution_count": null,
   "id": "670af330",
   "metadata": {},
   "outputs": [],
   "source": [
    "data Shape = Circle Float | Rect Float Float | Square Float\n",
    "\n",
    "area :: Shape -> Float\n",
    "area (Circle r) = pi * r^2\n",
    "area (Rect d h) = d * h\n",
    "area (Square s) = s^2\n",
    "\n",
    "circ :: Shape -> Float\n",
    "circ (Circle r) = 2 * pi * r\n",
    "circ (Rect d h) = 2 * (d + h)\n",
    "circ (Square s) = 4 * s"
   ]
  },
  {
   "cell_type": "markdown",
   "id": "5728048b",
   "metadata": {},
   "source": [
    "### Challenge 5\n",
    "Show that $a + a = 2 \\times a$ up to isomorphism where $a \\times a$ is `(a, b)` and $a + b$ is `Either a b` ($2$ in this setup corresponds to `Bool`).\n",
    "\n",
    "The definition below works up to isomorphism in the choice between\n",
    " 1. `Left -> False` vs `Left -> True`\n",
    " 1. `(Bool, a)` vs `(a, Bool)`"
   ]
  },
  {
   "cell_type": "code",
   "execution_count": null,
   "id": "0d03d80e",
   "metadata": {},
   "outputs": [],
   "source": [
    "toFlagged :: Either a a -> (Bool, a)\n",
    "toFlagged (Left x) = (False, x)\n",
    "toFlagged (Right x) = (True, x)\n",
    "\n",
    "fromFlagged :: (Bool, a) -> Either a a\n",
    "fromFlagged (False, x) = Left x\n",
    "fromFlagged (True, x) = Right x"
   ]
  }
 ],
 "metadata": {
  "kernelspec": {
   "display_name": "Haskell",
   "language": "haskell",
   "name": "haskell"
  },
  "language_info": {
   "codemirror_mode": "ihaskell",
   "file_extension": ".hs",
   "mimetype": "text/x-haskell",
   "name": "haskell",
   "pygments_lexer": "Haskell",
   "version": "8.10.4"
  }
 },
 "nbformat": 4,
 "nbformat_minor": 5
}
