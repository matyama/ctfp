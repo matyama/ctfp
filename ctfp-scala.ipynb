{
 "cells": [
  {
   "cell_type": "markdown",
   "metadata": {},
   "source": [
    "# Category Theory for Programmers"
   ]
  },
  {
   "cell_type": "markdown",
   "metadata": {},
   "source": [
    "## Chapter 1: Category - The Essence of Composition"
   ]
  },
  {
   "cell_type": "markdown",
   "metadata": {},
   "source": [
    "### Challenge 1"
   ]
  },
  {
   "cell_type": "code",
   "execution_count": null,
   "metadata": {},
   "outputs": [],
   "source": [
    "def id[A](a: A): A = a"
   ]
  },
  {
   "cell_type": "markdown",
   "metadata": {},
   "source": [
    "### Challenge 2"
   ]
  },
  {
   "cell_type": "code",
   "execution_count": null,
   "metadata": {},
   "outputs": [],
   "source": [
    "def comp[A, B, C](f: B => C, g: A => B): A => C = x => f(g(x))"
   ]
  },
  {
   "cell_type": "markdown",
   "metadata": {},
   "source": [
    "### Challenge 3"
   ]
  },
  {
   "cell_type": "code",
   "execution_count": null,
   "metadata": {},
   "outputs": [],
   "source": [
    "def testCompId[A, B](f: A => B)(x: A): Boolean = {\n",
    "    val y = f(x)\n",
    "    (comp(f, id[A])(x) == y) && (y == comp(id[B], f)(x))\n",
    "}"
   ]
  },
  {
   "cell_type": "code",
   "execution_count": null,
   "metadata": {},
   "outputs": [],
   "source": [
    "testCompId[Integer, String](_.toString)(42)"
   ]
  },
  {
   "cell_type": "markdown",
   "metadata": {},
   "source": [
    "## Chapter 2: Types and Functions"
   ]
  },
  {
   "cell_type": "markdown",
   "metadata": {},
   "source": [
    "### Challenge 1"
   ]
  },
  {
   "cell_type": "code",
   "execution_count": null,
   "metadata": {},
   "outputs": [],
   "source": [
    "import scala.collection.mutable.Map\n",
    "\n",
    "def memoize[A, B](f: A => B): A => B = {\n",
    "    val cache = Map[A, B]()\n",
    "    x => cache get x match {\n",
    "        case Some(y) => y\n",
    "        case None => {\n",
    "            val y = f(x)\n",
    "            cache += (x -> y)\n",
    "            y\n",
    "        }\n",
    "    }\n",
    "}"
   ]
  },
  {
   "cell_type": "code",
   "execution_count": null,
   "metadata": {},
   "outputs": [],
   "source": [
    "val addOne: (Integer => Integer) = memoize(_ + 1)"
   ]
  },
  {
   "cell_type": "code",
   "execution_count": null,
   "metadata": {},
   "outputs": [],
   "source": [
    "addOne(41)"
   ]
  },
  {
   "cell_type": "code",
   "execution_count": null,
   "metadata": {},
   "outputs": [],
   "source": [
    "addOne(41)"
   ]
  },
  {
   "cell_type": "markdown",
   "metadata": {},
   "source": [
    "### Challenge 2"
   ]
  },
  {
   "cell_type": "code",
   "execution_count": null,
   "metadata": {},
   "outputs": [],
   "source": [
    "import scala.util.Random\n",
    "\n",
    "implicit val rnd = new Random\n",
    "\n",
    "def rand(implicit rnd: Random): Int = {\n",
    "    rnd.nextInt\n",
    "}"
   ]
  },
  {
   "cell_type": "code",
   "execution_count": null,
   "metadata": {},
   "outputs": [],
   "source": [
    "rand"
   ]
  },
  {
   "cell_type": "code",
   "execution_count": null,
   "metadata": {},
   "outputs": [],
   "source": [
    "rand"
   ]
  },
  {
   "cell_type": "code",
   "execution_count": null,
   "metadata": {},
   "outputs": [],
   "source": [
    "val cachedRand = memoize[Unit, Int](_ => rand)"
   ]
  },
  {
   "cell_type": "code",
   "execution_count": null,
   "metadata": {},
   "outputs": [],
   "source": [
    "cachedRand()"
   ]
  },
  {
   "cell_type": "code",
   "execution_count": null,
   "metadata": {},
   "outputs": [],
   "source": [
    "cachedRand()"
   ]
  },
  {
   "cell_type": "markdown",
   "metadata": {},
   "source": [
    "### Challenge 3"
   ]
  },
  {
   "cell_type": "code",
   "execution_count": null,
   "metadata": {},
   "outputs": [],
   "source": [
    "def seededRand(seed: Int): Int = {\n",
    "    val rnd = new Random(seed)\n",
    "    rnd.nextInt\n",
    "}\n",
    "\n",
    "val cachedSeededRand = memoize[Int, Int](seededRand)"
   ]
  },
  {
   "cell_type": "code",
   "execution_count": null,
   "metadata": {},
   "outputs": [],
   "source": [
    "cachedSeededRand(42)"
   ]
  },
  {
   "cell_type": "code",
   "execution_count": null,
   "metadata": {},
   "outputs": [],
   "source": [
    "cachedSeededRand(42)"
   ]
  },
  {
   "cell_type": "markdown",
   "metadata": {},
   "source": [
    "## Chapter 4: Kleisli Categories"
   ]
  },
  {
   "cell_type": "markdown",
   "metadata": {},
   "source": [
    "### Challenge 2 & 3"
   ]
  },
  {
   "cell_type": "code",
   "execution_count": null,
   "metadata": {},
   "outputs": [],
   "source": [
    "import scala.math.sqrt\n",
    "\n",
    "def safe_root(x: Double): Option[Double] = if (x >= 0) Some(sqrt(x)) else None"
   ]
  },
  {
   "cell_type": "code",
   "execution_count": null,
   "metadata": {},
   "outputs": [],
   "source": [
    "safe_root(-1)"
   ]
  },
  {
   "cell_type": "code",
   "execution_count": null,
   "metadata": {},
   "outputs": [],
   "source": [
    "safe_root(9)"
   ]
  },
  {
   "cell_type": "code",
   "execution_count": null,
   "metadata": {},
   "outputs": [],
   "source": [
    "def safe_recip(x: Double): Option[Double] = if (x != 0) Some(1 / x) else None"
   ]
  },
  {
   "cell_type": "code",
   "execution_count": null,
   "metadata": {},
   "outputs": [],
   "source": [
    "safe_recip(0)"
   ]
  },
  {
   "cell_type": "code",
   "execution_count": null,
   "metadata": {},
   "outputs": [],
   "source": [
    "safe_recip(2)"
   ]
  },
  {
   "cell_type": "code",
   "execution_count": null,
   "metadata": {},
   "outputs": [],
   "source": [
    "def safe_root_recip(x: Double): Option[Double] = for {\n",
    "    y <- safe_recip(x)\n",
    "    z <- safe_root(y)\n",
    "} yield z"
   ]
  },
  {
   "cell_type": "code",
   "execution_count": null,
   "metadata": {},
   "outputs": [],
   "source": [
    "safe_root_recip(-1)"
   ]
  },
  {
   "cell_type": "code",
   "execution_count": null,
   "metadata": {},
   "outputs": [],
   "source": [
    "safe_root_recip(0)"
   ]
  },
  {
   "cell_type": "code",
   "execution_count": null,
   "metadata": {},
   "outputs": [],
   "source": [
    "safe_root_recip(9)"
   ]
  },
  {
   "cell_type": "markdown",
   "metadata": {},
   "source": [
    "## Chapter 5: Products and Coproducts"
   ]
  },
  {
   "cell_type": "markdown",
   "metadata": {},
   "source": [
    "### Challenge 4"
   ]
  },
  {
   "cell_type": "code",
   "execution_count": null,
   "metadata": {},
   "outputs": [],
   "source": [
    "sealed trait MyEither[A, B]\n",
    "\n",
    "case class MyLeft[A](left: A) extends MyEither[A, Nothing]\n",
    "case class MyRight[B](right: B) extends MyEither[Nothing, B]"
   ]
  },
  {
   "cell_type": "markdown",
   "metadata": {},
   "source": [
    "### Challenge 5\n",
    "Show that `Either` is \"better\" *coproduct* than `Int` with two injections `i` and `j`."
   ]
  },
  {
   "cell_type": "code",
   "execution_count": null,
   "metadata": {},
   "outputs": [],
   "source": [
    "def i(n: Int): Int = n\n",
    "def j(b: Boolean): Int = if (b) 0 else 1"
   ]
  },
  {
   "cell_type": "code",
   "execution_count": null,
   "metadata": {},
   "outputs": [],
   "source": [
    "def factorizer[A, B, C]: (A => C) => (B => C) => Either[A, B] => C = i => j => {\n",
    "    case Left(a) => i(a)\n",
    "    case Right(b) => j(b)\n",
    "}\n",
    "\n",
    "// m factorizes i and j => Either is \"better\" than Int\n",
    "def m(e: Either[Int, Boolean]): Int = factorizer(i)(j)(e)"
   ]
  },
  {
   "cell_type": "markdown",
   "metadata": {},
   "source": [
    "## Chapter 6: Simple Algebraic Data Types"
   ]
  },
  {
   "cell_type": "markdown",
   "metadata": {},
   "source": [
    "### Challenge 2, 3 & 4\n",
    "Define `Shape` and associated methods `area` and `circ` in OOP stype, then add new shape `Square`."
   ]
  },
  {
   "cell_type": "code",
   "execution_count": null,
   "metadata": {},
   "outputs": [],
   "source": [
    "import scala.math.Pi\n",
    "\n",
    "trait Shape {\n",
    "    def area: Double\n",
    "    def circ: Double\n",
    "}\n",
    "\n",
    "class Circle(r: Double) extends Shape {\n",
    "    def area = Pi * this.r * this.r\n",
    "    def circ = 2 * Pi * this.r\n",
    "}\n",
    "\n",
    "class Rect(d: Double, h: Double) extends Shape {\n",
    "    def area = this.d * this.h\n",
    "    def circ = 2 * (this.d + this.h)\n",
    "}\n",
    "\n",
    "class Square(s: Double) extends Shape {\n",
    "    def area = this.s * this.s\n",
    "    def circ = 4 * this.s\n",
    "}"
   ]
  },
  {
   "cell_type": "markdown",
   "metadata": {},
   "source": [
    "In OOP the ADT pattern matching is replaced by dynamic dispatch via a *vtable*. The vtable basically keeps track of \"type labels\" sub-classes.\n",
    "\n",
    "When addin new methods to a class hierarchy, one has to change every class and the trait, whereas with functions defined on ADTs, one simply adds new function."
   ]
  },
  {
   "cell_type": "code",
   "execution_count": null,
   "metadata": {},
   "outputs": [],
   "source": [
    "sealed trait Shape\n",
    "\n",
    "case class Circle(r: Double) extends Shape\n",
    "case class Rect(d: Double, h: Double) extends Shape\n",
    "case class Square(s: Double) extends Shape\n",
    "\n",
    "def area[S <: Shape](s: S): Double = s match {\n",
    "    case Circle(r) => Pi * r * r\n",
    "    case Rect(d, h) => d * h\n",
    "    case Square(s) => s * s\n",
    "}\n",
    "\n",
    "def circ[S <: Shape](s: S): Double = s match {\n",
    "    case Circle(r) => 2 * Pi * r\n",
    "    case Rect(d, h) => 2 * (d + h)\n",
    "    case Square(s) => 4 * s\n",
    "}"
   ]
  },
  {
   "cell_type": "markdown",
   "metadata": {},
   "source": [
    "## Chapter 7: Functors"
   ]
  },
  {
   "cell_type": "markdown",
   "metadata": {},
   "source": [
    "### Challenge 3\n",
    "Implemnt the *Reader* functor.\n",
    "\n",
    "```haskell\n",
    "instance Functor ((->) r) where\n",
    "    -- fmap :: (a -> b) -> (r -> a) -> (r -> b)\n",
    "    fmap f g = f . g\n",
    "```\n",
    "\n",
    "The solution requires the [Kind Projector](https://github.com/typelevel/kind-projector) compiler plugin for the `R => ?` type.\n",
    "\n",
    "```scala\n",
    "trait Functor[F[_]] {\n",
    "    def fmap[A, B](f: A => B)(fa: F[A]): F[B]\n",
    "}\n",
    "\n",
    "implicit def readerFunctor[R] = new Functor[R => ?] {\n",
    "    def fmap[A, B](f: A => B)(fa: R => A): R => B = f compose fa\n",
    "}\n",
    "```"
   ]
  },
  {
   "cell_type": "markdown",
   "metadata": {},
   "source": [
    "## Chapter 8: Functoriality"
   ]
  },
  {
   "cell_type": "markdown",
   "metadata": {},
   "source": [
    "### Challenge 5\n",
    "Give an instance of a *bifunctor* for generic pair."
   ]
  },
  {
   "cell_type": "code",
   "execution_count": null,
   "metadata": {},
   "outputs": [],
   "source": [
    "import scala.Tuple2\n",
    "\n",
    "trait Bifunctor[F[_, _]] {\n",
    "    \n",
    "    def bimap[A, B, C, D](g: A => B)(h: C => D): F[A, C] => F[B, D] = first(g) compose second(h)\n",
    "    \n",
    "    def first[A, B, C](g: A => C): F[A, B] => F[C, B] = bimap(g)(identity[B])\n",
    "    \n",
    "    def second[A, B, D](h: B => D): F[A, B] => F[A, D] = bimap(identity[A])(h)\n",
    "}\n",
    "\n",
    "implicit val pairBF = new Bifunctor[Tuple2] {\n",
    "    override def bimap[A, B, C, D](g: A => B)(h: C => D): ((A, C)) => (B, D) = {\n",
    "        case (x, y) => (g(x), h(y))\n",
    "    }\n",
    "}"
   ]
  },
  {
   "cell_type": "code",
   "execution_count": null,
   "metadata": {},
   "outputs": [],
   "source": [
    "def tryPairBF(p: (Int, Int))(implicit BF: Bifunctor[Tuple2]): (Int, Int) = \n",
    "    BF.bimap[Int, Int, Int, Int](_ + 1)(x => x * x)(p)"
   ]
  },
  {
   "cell_type": "code",
   "execution_count": null,
   "metadata": {},
   "outputs": [],
   "source": [
    "tryPairBF((41, 3))"
   ]
  }
 ],
 "metadata": {
  "kernelspec": {
   "display_name": "Scala 2.13",
   "language": "scala",
   "name": "scala213"
  },
  "language_info": {
   "codemirror_mode": "text/x-scala",
   "file_extension": ".sc",
   "mimetype": "text/x-scala",
   "name": "scala",
   "nbconvert_exporter": "script",
   "version": "2.13.3"
  }
 },
 "nbformat": 4,
 "nbformat_minor": 4
}
