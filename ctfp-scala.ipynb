{
 "cells": [
  {
   "cell_type": "markdown",
   "metadata": {},
   "source": [
    "# Category Theory for Programmers"
   ]
  },
  {
   "cell_type": "markdown",
   "metadata": {},
   "source": [
    "## Chapter 6: Simple Algebraic Data Types"
   ]
  },
  {
   "cell_type": "markdown",
   "metadata": {},
   "source": [
    "### Challenge 2, 3 & 4\n",
    "Define `Shape` and associated methods `area` and `circ` in OOP stype, then add new shape `Square`."
   ]
  },
  {
   "cell_type": "code",
   "execution_count": null,
   "metadata": {},
   "outputs": [],
   "source": [
    "import scala.math.Pi\n",
    "\n",
    "trait Shape {\n",
    "    def area: Double\n",
    "    def circ: Double\n",
    "}\n",
    "\n",
    "class Circle(r: Double) extends Shape {\n",
    "    def area = Pi * this.r * this.r\n",
    "    def circ = 2 * Pi * this.r\n",
    "}\n",
    "\n",
    "class Rect(d: Double, h: Double) extends Shape {\n",
    "    def area = this.d * this.h\n",
    "    def circ = 2 * (this.d + this.h)\n",
    "}\n",
    "\n",
    "class Square(s: Double) extends Shape {\n",
    "    def area = this.s * this.s\n",
    "    def circ = 4 * this.s\n",
    "}"
   ]
  },
  {
   "cell_type": "markdown",
   "metadata": {},
   "source": [
    "In OOP the ADT pattern matching is replaced by dynamic dispatch via a *vtable*. The vtable basically keeps track of \"type labels\" sub-classes.\n",
    "\n",
    "When addin new methods to a class hierarchy, one has to change every class and the trait, whereas with functions defined on ADTs, one simply adds new function."
   ]
  },
  {
   "cell_type": "code",
   "execution_count": null,
   "metadata": {},
   "outputs": [],
   "source": [
    "sealed trait Shape\n",
    "\n",
    "case class Circle(r: Double) extends Shape\n",
    "case class Rect(d: Double, h: Double) extends Shape\n",
    "case class Square(s: Double) extends Shape\n",
    "\n",
    "def area[S <: Shape](s: S): Double = s match {\n",
    "    case Circle(r) => Pi * r * r\n",
    "    case Rect(d, h) => d * h\n",
    "    case Square(s) => s * s\n",
    "}\n",
    "\n",
    "def circ[S <: Shape](s: S): Double = s match {\n",
    "    case Circle(r) => 2 * Pi * r\n",
    "    case Rect(d, h) => 2 * (d + h)\n",
    "    case Square(s) => 4 * s\n",
    "}"
   ]
  }
 ],
 "metadata": {
  "kernelspec": {
   "display_name": "Scala 2.13",
   "language": "scala",
   "name": "scala213"
  },
  "language_info": {
   "codemirror_mode": "text/x-scala",
   "file_extension": ".sc",
   "mimetype": "text/x-scala",
   "name": "scala",
   "nbconvert_exporter": "script",
   "version": "2.13.3"
  }
 },
 "nbformat": 4,
 "nbformat_minor": 4
}
